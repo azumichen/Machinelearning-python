{
 "cells": [
  {
   "cell_type": "code",
   "execution_count": 21,
   "metadata": {},
   "outputs": [
    {
     "name": "stdout",
     "output_type": "stream",
     "text": [
      "/Users/apple/Desktop/ROC\n"
     ]
    }
   ],
   "source": [
    "import os\n",
    "print (os.path.abspath('/Users/apple/Desktop/ROC'))"
   ]
  },
  {
   "cell_type": "code",
   "execution_count": 22,
   "metadata": {},
   "outputs": [],
   "source": [
    "import pandas as pd\n",
    "from matplotlib import pyplot as plt\n",
    "import numpy as np\n",
    "df = pd.read_csv('webdata.csv',engine='python') "
   ]
  },
  {
   "cell_type": "code",
   "execution_count": 23,
   "metadata": {},
   "outputs": [],
   "source": [
    "pd.set_option('display.max_columns',None)   "
   ]
  },
  {
   "cell_type": "code",
   "execution_count": 24,
   "metadata": {},
   "outputs": [
    {
     "data": {
      "text/html": [
       "<div>\n",
       "<style scoped>\n",
       "    .dataframe tbody tr th:only-of-type {\n",
       "        vertical-align: middle;\n",
       "    }\n",
       "\n",
       "    .dataframe tbody tr th {\n",
       "        vertical-align: top;\n",
       "    }\n",
       "\n",
       "    .dataframe thead th {\n",
       "        text-align: right;\n",
       "    }\n",
       "</style>\n",
       "<table border=\"1\" class=\"dataframe\">\n",
       "  <thead>\n",
       "    <tr style=\"text-align: right;\">\n",
       "      <th></th>\n",
       "      <th>Sitecore id;Url;Site section;Site subsection;Article type;Num disruptors;Num exhibits;Num videos;Num body links;Num sidebars;Num podcasts;Num interactives;Num related articles;Num most popular;Num words;Download only;Primary topic;Num topics;Num industries;Num locations;Num functional practices;Num industry practices;Num regions;Inlinks;Outlinks;Entries direct;Entries email;Entries search;Bounces direct;Bounces email;Bounces search;Page views</th>\n",
       "    </tr>\n",
       "  </thead>\n",
       "  <tbody>\n",
       "    <tr>\n",
       "      <th>count</th>\n",
       "      <td>2295</td>\n",
       "    </tr>\n",
       "    <tr>\n",
       "      <th>unique</th>\n",
       "      <td>2295</td>\n",
       "    </tr>\n",
       "    <tr>\n",
       "      <th>top</th>\n",
       "      <td>2e901f34-7233-45f2-8799-deb193dab735;http://ww...</td>\n",
       "    </tr>\n",
       "    <tr>\n",
       "      <th>freq</th>\n",
       "      <td>1</td>\n",
       "    </tr>\n",
       "  </tbody>\n",
       "</table>\n",
       "</div>"
      ],
      "text/plain": [
       "       Sitecore id;Url;Site section;Site subsection;Article type;Num disruptors;Num exhibits;Num videos;Num body links;Num sidebars;Num podcasts;Num interactives;Num related articles;Num most popular;Num words;Download only;Primary topic;Num topics;Num industries;Num locations;Num functional practices;Num industry practices;Num regions;Inlinks;Outlinks;Entries direct;Entries email;Entries search;Bounces direct;Bounces email;Bounces search;Page views\n",
       "count                                                2295                                                                                                                                                                                                                                                                                                                                                                                                            \n",
       "unique                                               2295                                                                                                                                                                                                                                                                                                                                                                                                            \n",
       "top     2e901f34-7233-45f2-8799-deb193dab735;http://ww...                                                                                                                                                                                                                                                                                                                                                                                                            \n",
       "freq                                                    1                                                                                                                                                                                                                                                                                                                                                                                                            "
      ]
     },
     "execution_count": 24,
     "metadata": {},
     "output_type": "execute_result"
    }
   ],
   "source": [
    "df.describe()"
   ]
  },
  {
   "cell_type": "code",
   "execution_count": 25,
   "metadata": {},
   "outputs": [
    {
     "data": {
      "text/html": [
       "<div>\n",
       "<style scoped>\n",
       "    .dataframe tbody tr th:only-of-type {\n",
       "        vertical-align: middle;\n",
       "    }\n",
       "\n",
       "    .dataframe tbody tr th {\n",
       "        vertical-align: top;\n",
       "    }\n",
       "\n",
       "    .dataframe thead th {\n",
       "        text-align: right;\n",
       "    }\n",
       "</style>\n",
       "<table border=\"1\" class=\"dataframe\">\n",
       "  <thead>\n",
       "    <tr style=\"text-align: right;\">\n",
       "      <th></th>\n",
       "      <th>Sitecore id;Url;Site section;Site subsection;Article type;Num disruptors;Num exhibits;Num videos;Num body links;Num sidebars;Num podcasts;Num interactives;Num related articles;Num most popular;Num words;Download only;Primary topic;Num topics;Num industries;Num locations;Num functional practices;Num industry practices;Num regions;Inlinks;Outlinks;Entries direct;Entries email;Entries search;Bounces direct;Bounces email;Bounces search;Page views</th>\n",
       "    </tr>\n",
       "  </thead>\n",
       "  <tbody>\n",
       "    <tr>\n",
       "      <th>0</th>\n",
       "      <td>002c3851-d0c6-4642-9c5e-6fc2f181cfcf;http://ww...</td>\n",
       "    </tr>\n",
       "    <tr>\n",
       "      <th>1</th>\n",
       "      <td>00307567-4679-4016-8b0f-549c28a7ea3d;http://ww...</td>\n",
       "    </tr>\n",
       "    <tr>\n",
       "      <th>2</th>\n",
       "      <td>005561c2-aedd-45e5-ae0b-4d1ba8826d72;http://ww...</td>\n",
       "    </tr>\n",
       "  </tbody>\n",
       "</table>\n",
       "</div>"
      ],
      "text/plain": [
       "  Sitecore id;Url;Site section;Site subsection;Article type;Num disruptors;Num exhibits;Num videos;Num body links;Num sidebars;Num podcasts;Num interactives;Num related articles;Num most popular;Num words;Download only;Primary topic;Num topics;Num industries;Num locations;Num functional practices;Num industry practices;Num regions;Inlinks;Outlinks;Entries direct;Entries email;Entries search;Bounces direct;Bounces email;Bounces search;Page views\n",
       "0  002c3851-d0c6-4642-9c5e-6fc2f181cfcf;http://ww...                                                                                                                                                                                                                                                                                                                                                                                                            \n",
       "1  00307567-4679-4016-8b0f-549c28a7ea3d;http://ww...                                                                                                                                                                                                                                                                                                                                                                                                            \n",
       "2  005561c2-aedd-45e5-ae0b-4d1ba8826d72;http://ww...                                                                                                                                                                                                                                                                                                                                                                                                            "
      ]
     },
     "execution_count": 25,
     "metadata": {},
     "output_type": "execute_result"
    }
   ],
   "source": [
    "df.head(3)"
   ]
  },
  {
   "cell_type": "code",
   "execution_count": 27,
   "metadata": {},
   "outputs": [],
   "source": [
    "import seaborn as sns\n",
    "import matplotlib as mpl\n",
    "from random import shuffle  \n",
    "from random import seed"
   ]
  },
  {
   "cell_type": "code",
   "execution_count": 28,
   "metadata": {},
   "outputs": [
    {
     "name": "stdout",
     "output_type": "stream",
     "text": [
      "       Sitecore id;Url;Site section;Site subsection;Article type;Num disruptors;Num exhibits;Num videos;Num body links;Num sidebars;Num podcasts;Num interactives;Num related articles;Num most popular;Num words;Download only;Primary topic;Num topics;Num industries;Num locations;Num functional practices;Num industry practices;Num regions;Inlinks;Outlinks;Entries direct;Entries email;Entries search;Bounces direct;Bounces email;Bounces search;Page views\n",
      "count                                                2295                                                                                                                                                                                                                                                                                                                                                                                                            \n",
      "unique                                               2295                                                                                                                                                                                                                                                                                                                                                                                                            \n",
      "top     2e901f34-7233-45f2-8799-deb193dab735;http://ww...                                                                                                                                                                                                                                                                                                                                                                                                            \n",
      "freq                                                    1                                                                                                                                                                                                                                                                                                                                                                                                            \n"
     ]
    }
   ],
   "source": [
    "list(df.columns)    \n",
    "temp=df.describe()  \n",
    "print(temp)        "
   ]
  },
  {
   "cell_type": "code",
   "execution_count": 29,
   "metadata": {},
   "outputs": [
    {
     "data": {
      "text/plain": [
       "['Sitecore id;Url;Site section;Site subsection;Article type;Num disruptors;Num exhibits;Num videos;Num body links;Num sidebars;Num podcasts;Num interactives;Num related articles;Num most popular;Num words;Download only;Primary topic;Num topics;Num industries;Num locations;Num functional practices;Num industry practices;Num regions;Inlinks;Outlinks;Entries direct;Entries email;Entries search;Bounces direct;Bounces email;Bounces search;Page views']"
      ]
     },
     "execution_count": 29,
     "metadata": {},
     "output_type": "execute_result"
    }
   ],
   "source": [
    "df.dropna(axis=0,how='any')    \n",
    "list(df.columns)    "
   ]
  },
  {
   "cell_type": "code",
   "execution_count": 30,
   "metadata": {},
   "outputs": [],
   "source": [
    "df.rename(columns={'Num words':'words','Page views':'views'}, inplace=True)   "
   ]
  },
  {
   "cell_type": "code",
   "execution_count": 31,
   "metadata": {},
   "outputs": [
    {
     "ename": "AttributeError",
     "evalue": "'DataFrame' object has no attribute 'words'",
     "output_type": "error",
     "traceback": [
      "\u001b[0;31m---------------------------------------------------------------------------\u001b[0m",
      "\u001b[0;31mAttributeError\u001b[0m                            Traceback (most recent call last)",
      "\u001b[0;32m<ipython-input-31-cc31f90cbb06>\u001b[0m in \u001b[0;36m<module>\u001b[0;34m()\u001b[0m\n\u001b[0;32m----> 1\u001b[0;31m \u001b[0mplt\u001b[0m\u001b[0;34m.\u001b[0m\u001b[0mscatter\u001b[0m\u001b[0;34m(\u001b[0m\u001b[0mdf\u001b[0m\u001b[0;34m.\u001b[0m\u001b[0mwords\u001b[0m\u001b[0;34m,\u001b[0m\u001b[0mdf\u001b[0m\u001b[0;34m.\u001b[0m\u001b[0mviews\u001b[0m\u001b[0;34m)\u001b[0m      \u001b[0;31m# 2. Num words 与page view关系\u001b[0m\u001b[0;34m\u001b[0m\u001b[0m\n\u001b[0m",
      "\u001b[0;32m/anaconda3/lib/python3.6/site-packages/pandas/core/generic.py\u001b[0m in \u001b[0;36m__getattr__\u001b[0;34m(self, name)\u001b[0m\n\u001b[1;32m   4370\u001b[0m             \u001b[0;32mif\u001b[0m \u001b[0mself\u001b[0m\u001b[0;34m.\u001b[0m\u001b[0m_info_axis\u001b[0m\u001b[0;34m.\u001b[0m\u001b[0m_can_hold_identifiers_and_holds_name\u001b[0m\u001b[0;34m(\u001b[0m\u001b[0mname\u001b[0m\u001b[0;34m)\u001b[0m\u001b[0;34m:\u001b[0m\u001b[0;34m\u001b[0m\u001b[0m\n\u001b[1;32m   4371\u001b[0m                 \u001b[0;32mreturn\u001b[0m \u001b[0mself\u001b[0m\u001b[0;34m[\u001b[0m\u001b[0mname\u001b[0m\u001b[0;34m]\u001b[0m\u001b[0;34m\u001b[0m\u001b[0m\n\u001b[0;32m-> 4372\u001b[0;31m             \u001b[0;32mreturn\u001b[0m \u001b[0mobject\u001b[0m\u001b[0;34m.\u001b[0m\u001b[0m__getattribute__\u001b[0m\u001b[0;34m(\u001b[0m\u001b[0mself\u001b[0m\u001b[0;34m,\u001b[0m \u001b[0mname\u001b[0m\u001b[0;34m)\u001b[0m\u001b[0;34m\u001b[0m\u001b[0m\n\u001b[0m\u001b[1;32m   4373\u001b[0m \u001b[0;34m\u001b[0m\u001b[0m\n\u001b[1;32m   4374\u001b[0m     \u001b[0;32mdef\u001b[0m \u001b[0m__setattr__\u001b[0m\u001b[0;34m(\u001b[0m\u001b[0mself\u001b[0m\u001b[0;34m,\u001b[0m \u001b[0mname\u001b[0m\u001b[0;34m,\u001b[0m \u001b[0mvalue\u001b[0m\u001b[0;34m)\u001b[0m\u001b[0;34m:\u001b[0m\u001b[0;34m\u001b[0m\u001b[0m\n",
      "\u001b[0;31mAttributeError\u001b[0m: 'DataFrame' object has no attribute 'words'"
     ]
    }
   ],
   "source": [
    "plt.scatter(df.words,df.views)      # 2. Num words 与page view关系"
   ]
  },
  {
   "cell_type": "code",
   "execution_count": 16,
   "metadata": {},
   "outputs": [],
   "source": [
    "df=pd.read_csv('/Users/apple/desktop/ROC/breast_cancer.csv',engine='python')"
   ]
  },
  {
   "cell_type": "code",
   "execution_count": 19,
   "metadata": {},
   "outputs": [
    {
     "ename": "AttributeError",
     "evalue": "'numpy.ndarray' object has no attribute 'describe'",
     "output_type": "error",
     "traceback": [
      "\u001b[0;31m---------------------------------------------------------------------------\u001b[0m",
      "\u001b[0;31mAttributeError\u001b[0m                            Traceback (most recent call last)",
      "\u001b[0;32m<ipython-input-19-4debc6e5aa72>\u001b[0m in \u001b[0;36m<module>\u001b[0;34m()\u001b[0m\n\u001b[0;32m----> 1\u001b[0;31m \u001b[0mtemp\u001b[0m\u001b[0;34m=\u001b[0m\u001b[0mdf\u001b[0m\u001b[0;34m.\u001b[0m\u001b[0mdescribe\u001b[0m\u001b[0;34m(\u001b[0m\u001b[0;34m)\u001b[0m\u001b[0;34m\u001b[0m\u001b[0m\n\u001b[0m",
      "\u001b[0;31mAttributeError\u001b[0m: 'numpy.ndarray' object has no attribute 'describe'"
     ]
    }
   ],
   "source": [
    "temp=df.describe()"
   ]
  },
  {
   "cell_type": "code",
   "execution_count": null,
   "metadata": {},
   "outputs": [],
   "source": []
  }
 ],
 "metadata": {
  "kernelspec": {
   "display_name": "Python 3",
   "language": "python",
   "name": "python3"
  },
  "language_info": {
   "codemirror_mode": {
    "name": "ipython",
    "version": 3
   },
   "file_extension": ".py",
   "mimetype": "text/x-python",
   "name": "python",
   "nbconvert_exporter": "python",
   "pygments_lexer": "ipython3",
   "version": "3.6.5"
  }
 },
 "nbformat": 4,
 "nbformat_minor": 2
}
